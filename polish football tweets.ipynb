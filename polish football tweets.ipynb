{
 "cells": [
  {
   "cell_type": "code",
   "execution_count": 1,
   "metadata": {},
   "outputs": [],
   "source": [
    "import numpy as np\n",
    "import pandas as pd\n",
    "import matplotlib.pyplot as plt\n",
    "\n",
    "pd.set_option('display.max_colwidth', None)\n",
    "pd.set_option('display.max_rows', 100)\n",
    "pd.set_option('display.float_format', lambda x: '%.2f' % x)\n",
    "plt.style.use('fivethirtyeight')"
   ]
  },
  {
   "cell_type": "code",
   "execution_count": 2,
   "metadata": {},
   "outputs": [],
   "source": [
    "borekmati_tweets = pd.read_csv('new_BorekMati_tweets_12_08_2020.csv')"
   ]
  },
  {
   "cell_type": "code",
   "execution_count": 4,
   "metadata": {},
   "outputs": [],
   "source": [
    "borekmati_tweets['created_at'] = pd.to_datetime(borekmati_tweets['created_at'])"
   ]
  },
  {
   "cell_type": "code",
   "execution_count": 6,
   "metadata": {},
   "outputs": [
    {
     "name": "stdout",
     "output_type": "stream",
     "text": [
      "Początek:  2020-03-13 11:41:55\n",
      "Koniec:  2020-08-11 22:01:58\n"
     ]
    }
   ],
   "source": [
    "print(\"Początek: \", borekmati_tweets['created_at'].min())\n",
    "print(\"Koniec: \", borekmati_tweets['created_at'].max())"
   ]
  },
  {
   "cell_type": "code",
   "execution_count": 10,
   "metadata": {},
   "outputs": [],
   "source": [
    "def read_csv_and_print_start_stop(tt_account):\n",
    "    tweets = pd.read_csv(f'new_{tt_account}_tweets_12_08_2020.csv')\n",
    "    tweets['created_at'] = pd.to_datetime(tweets['created_at'])\n",
    "    print('Konto na TT: ', tt_account)\n",
    "    print('Początek: ', tweets['created_at'].min())\n",
    "    print('Koniec: ', tweets['created_at'].max())"
   ]
  },
  {
   "cell_type": "code",
   "execution_count": 11,
   "metadata": {},
   "outputs": [
    {
     "name": "stdout",
     "output_type": "stream",
     "text": [
      "Konto na TT:  BorekMati\n",
      "Początek:  2020-03-13 11:41:55\n",
      "Koniec:  2020-08-11 22:01:58\n"
     ]
    }
   ],
   "source": [
    "read_csv_and_print_start_stop('BorekMati')"
   ]
  },
  {
   "cell_type": "code",
   "execution_count": 12,
   "metadata": {},
   "outputs": [],
   "source": [
    "list_of_tt = ['BorekMati', 'BL_1916', 'KoltonRoman', 'mogiel90', 'TSmokowski', 'PiotrWolosik', \n",
    "              'kowalski_cezary', 'Polsport', 'matiswiecicki', 'SzJadczak', 'pzpn_pl', 'czesmich',\n",
    "              'wjagoda07', 'mszkolnikowski', 'przeglad', 'RafalStec', 'tzimoch']"
   ]
  },
  {
   "cell_type": "code",
   "execution_count": 15,
   "metadata": {},
   "outputs": [
    {
     "name": "stdout",
     "output_type": "stream",
     "text": [
      "Konto na TT:  BorekMati\n",
      "Początek:  2020-03-13 11:41:55\n",
      "Koniec:  2020-08-11 22:01:58\n",
      "Konto na TT:  BL_1916\n",
      "Początek:  2019-06-30 20:26:09\n",
      "Koniec:  2020-08-11 16:27:08\n",
      "Konto na TT:  KoltonRoman\n",
      "Początek:  2019-08-12 16:53:23\n",
      "Koniec:  2020-08-11 22:58:03\n",
      "Konto na TT:  mogiel90\n",
      "Początek:  2020-03-22 09:48:48\n",
      "Koniec:  2020-08-11 22:23:14\n",
      "Konto na TT:  TSmokowski\n",
      "Początek:  2019-11-27 21:35:06\n",
      "Koniec:  2020-08-11 16:19:26\n",
      "Konto na TT:  PiotrWolosik\n",
      "Początek:  2020-04-26 07:13:22\n",
      "Koniec:  2020-08-11 22:33:52\n",
      "Konto na TT:  kowalski_cezary\n",
      "Początek:  2018-11-16 17:35:03\n",
      "Koniec:  2020-08-08 21:38:39\n",
      "Konto na TT:  Polsport\n",
      "Początek:  2020-03-18 22:38:22\n",
      "Koniec:  2020-08-11 20:32:29\n",
      "Konto na TT:  matiswiecicki\n",
      "Początek:  2020-03-14 20:10:03\n",
      "Koniec:  2020-08-11 17:20:13\n",
      "Konto na TT:  SzJadczak\n",
      "Początek:  2020-03-25 07:21:58\n",
      "Koniec:  2020-08-11 22:59:01\n",
      "Konto na TT:  pzpn_pl\n",
      "Początek:  2016-11-08 12:53:10\n",
      "Koniec:  2020-08-11 10:36:25\n",
      "Konto na TT:  czesmich\n",
      "Początek:  2018-05-13 17:26:54\n",
      "Koniec:  2020-08-11 20:41:33\n",
      "Konto na TT:  wjagoda07\n",
      "Początek:  2020-06-05 18:35:25\n",
      "Koniec:  2020-08-11 21:15:49\n",
      "Konto na TT:  mszkolnikowski\n",
      "Początek:  2019-02-22 19:29:36\n",
      "Koniec:  2020-08-11 12:56:47\n",
      "Konto na TT:  przeglad\n",
      "Początek:  2020-06-22 10:54:36\n",
      "Koniec:  2020-08-12 04:25:02\n",
      "Konto na TT:  RafalStec\n",
      "Początek:  2018-11-17 08:05:11\n",
      "Koniec:  2020-08-11 23:20:24\n",
      "Konto na TT:  tzimoch\n",
      "Początek:  2018-08-24 14:17:01\n",
      "Koniec:  2020-08-11 12:34:51\n"
     ]
    }
   ],
   "source": [
    "for tt_account in list_of_tt:\n",
    "    read_csv_and_print_start_stop(tt_account)"
   ]
  },
  {
   "cell_type": "code",
   "execution_count": 18,
   "metadata": {},
   "outputs": [],
   "source": [
    "list_of_rt = ['LaczyNasPilka', 'laczynaskobieca', 'pzpn_pl', 'PZPNGrassroots', 'AmpFutbolPolska', 'PZPNPuchar', 'sport_tvppl',\n",
    "'Maciej_Sawicki', 'MiBiBialonski', 'RTS_Widzew_Lodz', 'mzachodny', 'FIFAcom', 'a_delimat']"
   ]
  },
  {
   "cell_type": "code",
   "execution_count": 19,
   "metadata": {},
   "outputs": [
    {
     "name": "stdout",
     "output_type": "stream",
     "text": [
      "Konto na TT:  LaczyNasPilka\n",
      "Początek:  2019-11-30 19:41:19\n",
      "Koniec:  2020-08-11 18:15:00\n",
      "Konto na TT:  laczynaskobieca\n",
      "Początek:  2018-03-21 09:40:20\n",
      "Koniec:  2020-08-11 19:29:34\n",
      "Konto na TT:  pzpn_pl\n",
      "Początek:  2016-11-08 12:53:10\n",
      "Koniec:  2020-08-11 10:36:25\n",
      "Konto na TT:  PZPNGrassroots\n",
      "Początek:  2018-08-02 06:55:45\n",
      "Koniec:  2020-08-11 19:02:13\n",
      "Konto na TT:  AmpFutbolPolska\n",
      "Początek:  2018-03-29 14:55:11\n",
      "Koniec:  2020-08-11 16:38:52\n",
      "Konto na TT:  PZPNPuchar\n",
      "Początek:  2017-02-27 11:43:23\n",
      "Koniec:  2020-08-11 17:01:31\n",
      "Konto na TT:  sport_tvppl\n",
      "Początek:  2020-06-12 06:16:01\n",
      "Koniec:  2020-08-12 05:25:00\n",
      "Konto na TT:  Maciej_Sawicki\n",
      "Początek:  2013-02-11 08:21:11\n",
      "Koniec:  2020-08-11 17:23:43\n",
      "Konto na TT:  MiBiBialonski\n",
      "Początek:  2019-02-09 20:46:51\n",
      "Koniec:  2020-08-11 19:34:45\n",
      "Konto na TT:  RTS_Widzew_Lodz\n",
      "Początek:  2019-09-03 06:30:00\n",
      "Koniec:  2020-08-11 20:25:38\n",
      "Konto na TT:  mzachodny\n",
      "Początek:  2019-09-25 21:08:05\n",
      "Koniec:  2020-08-11 12:54:42\n",
      "Konto na TT:  FIFAcom\n",
      "Początek:  2020-01-07 20:31:49\n",
      "Koniec:  2020-08-12 05:14:41\n",
      "Konto na TT:  a_delimat\n",
      "Początek:  2016-09-15 10:05:26\n",
      "Koniec:  2020-08-11 14:06:08\n"
     ]
    }
   ],
   "source": [
    "for tt_account in list_of_rt:\n",
    "    read_csv_and_print_start_stop(tt_account)"
   ]
  },
  {
   "cell_type": "code",
   "execution_count": null,
   "metadata": {},
   "outputs": [],
   "source": []
  }
 ],
 "metadata": {
  "kernelspec": {
   "display_name": "Python 3",
   "language": "python",
   "name": "python3"
  },
  "language_info": {
   "codemirror_mode": {
    "name": "ipython",
    "version": 3
   },
   "file_extension": ".py",
   "mimetype": "text/x-python",
   "name": "python",
   "nbconvert_exporter": "python",
   "pygments_lexer": "ipython3",
   "version": "3.8.0b4"
  }
 },
 "nbformat": 4,
 "nbformat_minor": 4
}
